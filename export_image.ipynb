{
 "cells": [
  {
   "cell_type": "code",
   "execution_count": 1,
   "id": "9efcfa88",
   "metadata": {},
   "outputs": [
    {
     "name": "stderr",
     "output_type": "stream",
     "text": [
      "0.9%"
     ]
    },
    {
     "name": "stdout",
     "output_type": "stream",
     "text": [
      "Downloading: \"https://download.pytorch.org/models/mobilenet_v2-7ebf99e0.pth\" to C:\\Users\\Ali Abbas/.cache\\torch\\hub\\checkpoints\\mobilenet_v2-7ebf99e0.pth\n"
     ]
    },
    {
     "name": "stderr",
     "output_type": "stream",
     "text": [
      "100.0%\n"
     ]
    },
    {
     "name": "stdout",
     "output_type": "stream",
     "text": [
      "✅ MobileNet V2 chargé.\n"
     ]
    }
   ],
   "source": [
    "import torch, torchvision\n",
    "from pathlib import Path\n",
    "\n",
    "model = torchvision.models.mobilenet_v2(\n",
    "    weights=\"MobileNet_V2_Weights.DEFAULT\"\n",
    ")\n",
    "model.eval()          \n",
    "print(\"✅ MobileNet V2 chargé.\")\n"
   ]
  },
  {
   "cell_type": "code",
   "execution_count": 2,
   "id": "6ed2c038",
   "metadata": {},
   "outputs": [
    {
     "name": "stdout",
     "output_type": "stream",
     "text": [
      "✅ ONNX exporté : C:\\Users\\Ali Abbas\\Desktop\\IA_web\\mobilenetv2.onnx\n"
     ]
    }
   ],
   "source": [
    "dummy = torch.zeros((1, 3, 224, 224))       \n",
    "onnx_path = Path(\"mobilenetv2.onnx\")\n",
    "\n",
    "torch.onnx.export(\n",
    "    model, dummy, onnx_path,\n",
    "    input_names=[\"input\"], output_names=[\"output\"],\n",
    "    dynamic_axes={\"input\": {0: \"batch\"}, \"output\": {0: \"batch\"}},\n",
    "    opset_version=12\n",
    ")\n",
    "print(\"✅ ONNX exporté :\", onnx_path.resolve())\n"
   ]
  },
  {
   "cell_type": "code",
   "execution_count": 3,
   "id": "e35ca75f",
   "metadata": {},
   "outputs": [
    {
     "name": "stdout",
     "output_type": "stream",
     "text": [
      "✅ labels.json écrit ( 1000 classes).\n"
     ]
    }
   ],
   "source": [
    "from torchvision.models import MobileNet_V2_Weights\n",
    "import json\n",
    "\n",
    "labels = MobileNet_V2_Weights.DEFAULT.meta[\"categories\"]\n",
    "with open(\"labels.json\", \"w\", encoding=\"utf-8\") as f:\n",
    "    json.dump(labels, f, indent=2, ensure_ascii=False)\n",
    "\n",
    "print(\"✅ labels.json écrit (\", len(labels), \"classes).\")\n"
   ]
  },
  {
   "cell_type": "code",
   "execution_count": null,
   "id": "21ee53ff",
   "metadata": {},
   "outputs": [
    {
     "name": "stdout",
     "output_type": "stream",
     "text": [
      "ONNX output shape : (1, 1000)\n"
     ]
    }
   ],
   "source": [
    "import onnxruntime as ort\n",
    "import numpy as np\n",
    "\n",
    "sess = ort.InferenceSession(\"mobilenetv2.onnx\",\n",
    "                            providers=[\"CPUExecutionProvider\"])\n",
    "\n",
    "dummy_np = np.random.rand(1, 3, 224, 224).astype(np.float32)\n",
    "outputs  = sess.run(None, {\"input\": dummy_np})\n",
    "\n",
    "print(\"ONNX output shape :\", outputs[0].shape) \n"
   ]
  },
  {
   "cell_type": "code",
   "execution_count": 5,
   "id": "697f22a6",
   "metadata": {},
   "outputs": [
    {
     "name": "stdout",
     "output_type": "stream",
     "text": [
      "Top-5 sur entrée aléatoire (juste pour valider le mapping) :\n",
      "kite  —  score 4.0398\n",
      "bee eater  —  score 3.7040\n",
      "white stork  —  score 3.5105\n",
      "bald eagle  —  score 3.1918\n",
      "parachute  —  score 3.1535\n"
     ]
    }
   ],
   "source": [
    "import json, numpy as np\n",
    "\n",
    "labels = json.load(open(\"labels.json\", encoding=\"utf-8\"))\n",
    "scores = outputs[0][0]\n",
    "top5   = scores.argsort()[-5:][::-1]\n",
    "\n",
    "print(\"Top-5 sur entrée aléatoire (juste pour valider le mapping) :\")\n",
    "for idx in top5:\n",
    "    print(f\"{labels[idx]}  —  score {scores[idx]:.4f}\")\n"
   ]
  }
 ],
 "metadata": {
  "kernelspec": {
   "display_name": ".venv",
   "language": "python",
   "name": "python3"
  },
  "language_info": {
   "codemirror_mode": {
    "name": "ipython",
    "version": 3
   },
   "file_extension": ".py",
   "mimetype": "text/x-python",
   "name": "python",
   "nbconvert_exporter": "python",
   "pygments_lexer": "ipython3",
   "version": "3.12.8"
  }
 },
 "nbformat": 4,
 "nbformat_minor": 5
}
