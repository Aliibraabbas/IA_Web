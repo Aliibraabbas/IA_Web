{
 "cells": [
  {
   "cell_type": "code",
   "execution_count": null,
   "id": "5ccc63b2",
   "metadata": {},
   "outputs": [
    {
     "name": "stdout",
     "output_type": "stream",
     "text": [
      "✅ Using cpu device\n"
     ]
    },
    {
     "name": "stderr",
     "output_type": "stream",
    }
   ],
   "source": [
    "import torch\n",
    "from torch import nn\n",
    "from torch.utils.data import DataLoader\n",
    "from torchvision.datasets import MNIST\n",
    "from torchvision import transforms         \n",
    "from torch.utils.tensorboard import SummaryWriter\n",
    "import matplotlib.pyplot as plt\n",
    "import random, numpy as np\n",
    "\n",
    "# reproductibilité\n",
    "seed = 42\n",
    "torch.manual_seed(seed)\n",
    "random.seed(seed)\n",
    "np.random.seed(seed)\n",
    "\n",
    "device = (torch.accelerator.current_accelerator().type\n",
    "          if torch.accelerator.is_available()\n",
    "          else \"cpu\")\n",
    "print(f\"✅ Using {device} device\")\n"
   ]
  },
  {
   "cell_type": "code",
   "execution_count": null,
   "id": "9dc208b4",
   "metadata": {},
   "outputs": [
    {
     "name": "stdout",
     "output_type": "stream",
     "text": [
      "Train set : 60000 images\n",
      "Test  set : 10000 images\n"
     ]
    },
    {
     "data": {
      "image/png": "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",
      "text/plain": [
       "<Figure size 900x200 with 6 Axes>"
      ]
     },
     "metadata": {},
     "output_type": "display_data"
    }
   ],
   "source": [
    "transform = transforms.Compose([\n",
    "    transforms.ToTensor(),\n",
    "    transforms.Normalize((0.1307,), (0.3081,))  \n",
    "])\n",
    "\n",
    "train_data = MNIST(root=\"data\", train=True,  download=True, transform=transform)\n",
    "test_data  = MNIST(root=\"data\", train=False, download=True, transform=transform)\n",
    "\n",
    "print(f\"Train set : {len(train_data)} images\")\n",
    "print(f\"Test  set : {len(test_data)} images\")\n",
    "\n",
    "# ► Aperçu de 6 images\n",
    "fig, axs = plt.subplots(1, 6, figsize=(9,2))\n",
    "for i in range(6):\n",
    "    img, label = train_data[i]\n",
    "    axs[i].imshow(img.squeeze(), cmap=\"gray\")\n",
    "    axs[i].set_title(str(label))\n",
    "    axs[i].axis(\"off\")\n",
    "plt.show()\n"
   ]
  },
  {
   "cell_type": "code",
   "execution_count": 13,
   "id": "d2693e0a",
   "metadata": {},
   "outputs": [],
   "source": [
    "BATCH_SIZE = 64\n",
    "train_loader = DataLoader(train_data, batch_size=BATCH_SIZE, shuffle=True)\n",
    "test_loader  = DataLoader(test_data,  batch_size=BATCH_SIZE)\n"
   ]
  },
  {
   "cell_type": "code",
   "execution_count": null,
   "id": "f86dd020",
   "metadata": {},
   "outputs": [
    {
     "name": "stdout",
     "output_type": "stream",
     "text": [
      "CNN(\n",
      "  (conv_layers): Sequential(\n",
      "    (0): Conv2d(1, 32, kernel_size=(3, 3), stride=(1, 1), padding=(1, 1))\n",
      "    (1): BatchNorm2d(32, eps=1e-05, momentum=0.1, affine=True, track_running_stats=True)\n",
      "    (2): ReLU()\n",
      "    (3): MaxPool2d(kernel_size=2, stride=2, padding=0, dilation=1, ceil_mode=False)\n",
      "    (4): Conv2d(32, 64, kernel_size=(3, 3), stride=(1, 1), padding=(1, 1))\n",
      "    (5): BatchNorm2d(64, eps=1e-05, momentum=0.1, affine=True, track_running_stats=True)\n",
      "    (6): ReLU()\n",
      "    (7): MaxPool2d(kernel_size=2, stride=2, padding=0, dilation=1, ceil_mode=False)\n",
      "  )\n",
      "  (fc_layers): Sequential(\n",
      "    (0): Flatten(start_dim=1, end_dim=-1)\n",
      "    (1): Linear(in_features=3136, out_features=128, bias=True)\n",
      "    (2): BatchNorm1d(128, eps=1e-05, momentum=0.1, affine=True, track_running_stats=True)\n",
      "    (3): ReLU()\n",
      "    (4): Dropout(p=0.3, inplace=False)\n",
      "    (5): Linear(in_features=128, out_features=10, bias=True)\n",
      "  )\n",
      ")\n"
     ]
    }
   ],
   "source": [
    "class CNN(nn.Module):\n",
    "    def __init__(self, p_dropout=0.3):\n",
    "        super().__init__()\n",
    "       \n",
    "        self.conv_layers = nn.Sequential(\n",
    "            nn.Conv2d(1, 32, kernel_size=3, padding=1),\n",
    "            nn.BatchNorm2d(32),  \n",
    "            nn.ReLU(),\n",
    "            nn.MaxPool2d(2),                             \n",
    "\n",
    "            nn.Conv2d(32, 64, kernel_size=3, padding=1),\n",
    "            nn.BatchNorm2d(64),  \n",
    "            nn.ReLU(),\n",
    "            nn.MaxPool2d(2),                              \n",
    "        )\n",
    "        \n",
    "        self.fc_layers = nn.Sequential(\n",
    "            nn.Flatten(),\n",
    "            nn.Linear(64 * 7 * 7, 128),\n",
    "            nn.BatchNorm1d(128),  \n",
    "            nn.ReLU(),\n",
    "            nn.Dropout(p_dropout),   \n",
    "            nn.Linear(128, 10)\n",
    "        )\n",
    "\n",
    "    def forward(self, x):\n",
    "        x = self.conv_layers(x)\n",
    "        x = self.fc_layers(x)\n",
    "        return x\n",
    "\n",
    "model = CNN().to(device)\n",
    "print(model)\n"
   ]
  },
  {
   "cell_type": "code",
   "execution_count": null,
   "id": "7b94c9ef",
   "metadata": {},
   "outputs": [
    {
     "name": "stdout",
     "output_type": "stream",
     "text": [
      "📂 TensorBoard logs : runs/cnn_opt-Adam_lr-0.001_do-0.3\n"
     ]
    }
   ],
   "source": [
    "\n",
    "HP = {\n",
    "    \"lr\"      : 1e-3,         \n",
    "    \"optim\"   : \"Adam\",     \n",
    "    \"dropout\" : 0.3           \n",
    "}\n",
    "\n",
    "# instanciation du modèle\n",
    "model = CNN(p_dropout=HP[\"dropout\"]).to(device)\n",
    "\n",
    "# choix de l’optimiseur\n",
    "if HP[\"optim\"] == \"Adam\":\n",
    "    optimizer = torch.optim.Adam(model.parameters(), lr=HP[\"lr\"])\n",
    "else:  \n",
    "    optimizer = torch.optim.SGD(model.parameters(),\n",
    "                                lr=HP[\"lr\"],\n",
    "                                momentum=0.9)\n",
    "\n",
    "loss_fn = nn.CrossEntropyLoss()\n",
    "\n",
    "# SummaryWriter avec HParams\n",
    "run_name = f\"cnn_opt-{HP['optim']}_lr-{HP['lr']}_do-{HP['dropout']}\"\n",
    "LOG_DIR  = f\"runs/{run_name}\"\n",
    "writer   = SummaryWriter(LOG_DIR)\n",
    "\n",
    "writer.add_hparams(\n",
    "    {\"lr\": HP[\"lr\"], \"optim\": HP[\"optim\"], \"dropout\": HP[\"dropout\"]},\n",
    "    {}\n",
    ")\n",
    "\n",
    "print(f\"📂 TensorBoard logs : {LOG_DIR}\")\n",
    "\n",
    "# graph du modèle\n",
    "dummy_input = torch.zeros((1, 1, 28, 28)).to(device)\n",
    "writer.add_graph(model, dummy_input)\n"
   ]
  },
  {
   "cell_type": "code",
   "execution_count": 23,
   "id": "c7ce2658",
   "metadata": {},
   "outputs": [],
   "source": [
    "def train_epoch(loader, model, loss_fn, optimizer, epoch):\n",
    "    size = len(loader.dataset)\n",
    "    model.train()\n",
    "    running_loss = 0\n",
    "    for batch, (X, y) in enumerate(loader):\n",
    "        X, y = X.to(device), y.to(device)\n",
    "\n",
    "        pred  = model(X)\n",
    "        loss  = loss_fn(pred, y)\n",
    "        optimizer.zero_grad()\n",
    "        loss.backward()\n",
    "        optimizer.step()\n",
    "\n",
    "        running_loss += loss.item()\n",
    "\n",
    "        if batch % 100 == 0:\n",
    "            step = epoch * len(loader) + batch\n",
    "            writer.add_scalar(\"Loss/train\", loss.item(), step)\n",
    "            current = batch * len(X)\n",
    "            print(f\"loss: {loss.item():>7f}  [{current:>5d}/{size:>5d}]\")\n",
    "    return running_loss / len(loader)\n"
   ]
  },
  {
   "cell_type": "code",
   "execution_count": 24,
   "id": "b031c069",
   "metadata": {},
   "outputs": [],
   "source": [
    "def test_epoch(loader, model, epoch):\n",
    "    size = len(loader.dataset)\n",
    "    model.eval()\n",
    "    correct, total_loss = 0, 0\n",
    "    with torch.no_grad():\n",
    "        for X, y in loader:\n",
    "            X, y = X.to(device), y.to(device)\n",
    "            pred = model(X)\n",
    "            total_loss += loss_fn(pred, y).item()\n",
    "            correct += (pred.argmax(1) == y).type(torch.float).sum().item()\n",
    "\n",
    "    test_loss = total_loss / len(loader)\n",
    "    accuracy  = correct / size\n",
    "    writer.add_scalar(\"Loss/test\",  test_loss, epoch)\n",
    "    writer.add_scalar(\"Accuracy/test\", accuracy, epoch)\n",
    "    return test_loss, accuracy\n"
   ]
  },
  {
   "cell_type": "code",
   "execution_count": 25,
   "id": "fd455979",
   "metadata": {},
   "outputs": [
    {
     "name": "stdout",
     "output_type": "stream",
     "text": [
      "\n",
      "📚 Epoch 1/10\n",
      "loss: 2.460862  [    0/60000]\n",
      "loss: 0.201891  [ 6400/60000]\n",
      "loss: 0.031341  [12800/60000]\n",
      "loss: 0.103446  [19200/60000]\n",
      "loss: 0.067569  [25600/60000]\n",
      "loss: 0.054241  [32000/60000]\n",
      "loss: 0.131478  [38400/60000]\n",
      "loss: 0.138650  [44800/60000]\n",
      "loss: 0.124132  [51200/60000]\n",
      "loss: 0.025917  [57600/60000]\n",
      "  ➜ Train loss: 0.1212 | Test loss: 0.0358 | Accuracy: 98.98%\n",
      "\n",
      "📚 Epoch 2/10\n",
      "loss: 0.020754  [    0/60000]\n",
      "loss: 0.008839  [ 6400/60000]\n",
      "loss: 0.037883  [12800/60000]\n",
      "loss: 0.093498  [19200/60000]\n",
      "loss: 0.025257  [25600/60000]\n",
      "loss: 0.065995  [32000/60000]\n",
      "loss: 0.019454  [38400/60000]\n",
      "loss: 0.016146  [44800/60000]\n",
      "loss: 0.153672  [51200/60000]\n",
      "loss: 0.014051  [57600/60000]\n",
      "  ➜ Train loss: 0.0448 | Test loss: 0.0304 | Accuracy: 99.03%\n",
      "\n",
      "📚 Epoch 3/10\n",
      "loss: 0.005158  [    0/60000]\n",
      "loss: 0.019958  [ 6400/60000]\n",
      "loss: 0.031842  [12800/60000]\n",
      "loss: 0.072451  [19200/60000]\n",
      "loss: 0.017990  [25600/60000]\n",
      "loss: 0.012856  [32000/60000]\n",
      "loss: 0.015692  [38400/60000]\n",
      "loss: 0.097118  [44800/60000]\n",
      "loss: 0.004190  [51200/60000]\n",
      "loss: 0.008179  [57600/60000]\n",
      "  ➜ Train loss: 0.0327 | Test loss: 0.0257 | Accuracy: 99.14%\n",
      "\n",
      "📚 Epoch 4/10\n",
      "loss: 0.021810  [    0/60000]\n",
      "loss: 0.070901  [ 6400/60000]\n",
      "loss: 0.052088  [12800/60000]\n",
      "loss: 0.064797  [19200/60000]\n",
      "loss: 0.010605  [25600/60000]\n",
      "loss: 0.010832  [32000/60000]\n",
      "loss: 0.002266  [38400/60000]\n",
      "loss: 0.005548  [44800/60000]\n",
      "loss: 0.002413  [51200/60000]\n",
      "loss: 0.008892  [57600/60000]\n",
      "  ➜ Train loss: 0.0259 | Test loss: 0.0282 | Accuracy: 99.07%\n",
      "\n",
      "📚 Epoch 5/10\n",
      "loss: 0.001627  [    0/60000]\n",
      "loss: 0.001557  [ 6400/60000]\n",
      "loss: 0.009289  [12800/60000]\n",
      "loss: 0.039617  [19200/60000]\n",
      "loss: 0.009615  [25600/60000]\n",
      "loss: 0.006586  [32000/60000]\n",
      "loss: 0.007463  [38400/60000]\n",
      "loss: 0.005709  [44800/60000]\n",
      "loss: 0.008032  [51200/60000]\n",
      "loss: 0.011101  [57600/60000]\n",
      "  ➜ Train loss: 0.0219 | Test loss: 0.0224 | Accuracy: 99.29%\n",
      "\n",
      "📚 Epoch 6/10\n",
      "loss: 0.017453  [    0/60000]\n",
      "loss: 0.001013  [ 6400/60000]\n",
      "loss: 0.026168  [12800/60000]\n",
      "loss: 0.012302  [19200/60000]\n",
      "loss: 0.011919  [25600/60000]\n",
      "loss: 0.016189  [32000/60000]\n",
      "loss: 0.010866  [38400/60000]\n",
      "loss: 0.010630  [44800/60000]\n",
      "loss: 0.002882  [51200/60000]\n",
      "loss: 0.022053  [57600/60000]\n",
      "  ➜ Train loss: 0.0174 | Test loss: 0.0195 | Accuracy: 99.37%\n",
      "\n",
      "📚 Epoch 7/10\n",
      "loss: 0.021523  [    0/60000]\n",
      "loss: 0.062038  [ 6400/60000]\n",
      "loss: 0.020948  [12800/60000]\n",
      "loss: 0.002111  [19200/60000]\n",
      "loss: 0.000865  [25600/60000]\n",
      "loss: 0.002932  [32000/60000]\n",
      "loss: 0.040411  [38400/60000]\n",
      "loss: 0.003770  [44800/60000]\n",
      "loss: 0.004080  [51200/60000]\n",
      "loss: 0.003933  [57600/60000]\n",
      "  ➜ Train loss: 0.0145 | Test loss: 0.0222 | Accuracy: 99.22%\n",
      "\n",
      "📚 Epoch 8/10\n",
      "loss: 0.000924  [    0/60000]\n",
      "loss: 0.025348  [ 6400/60000]\n",
      "loss: 0.003140  [12800/60000]\n",
      "loss: 0.005104  [19200/60000]\n",
      "loss: 0.051214  [25600/60000]\n",
      "loss: 0.005167  [32000/60000]\n",
      "loss: 0.029163  [38400/60000]\n",
      "loss: 0.000447  [44800/60000]\n",
      "loss: 0.004765  [51200/60000]\n",
      "loss: 0.001350  [57600/60000]\n",
      "  ➜ Train loss: 0.0131 | Test loss: 0.0233 | Accuracy: 99.23%\n",
      "\n",
      "📚 Epoch 9/10\n",
      "loss: 0.002922  [    0/60000]\n",
      "loss: 0.000210  [ 6400/60000]\n",
      "loss: 0.000421  [12800/60000]\n",
      "loss: 0.001483  [19200/60000]\n",
      "loss: 0.001019  [25600/60000]\n",
      "loss: 0.001111  [32000/60000]\n",
      "loss: 0.012036  [38400/60000]\n",
      "loss: 0.015627  [44800/60000]\n",
      "loss: 0.005136  [51200/60000]\n",
      "loss: 0.044646  [57600/60000]\n",
      "  ➜ Train loss: 0.0113 | Test loss: 0.0221 | Accuracy: 99.33%\n",
      "\n",
      "📚 Epoch 10/10\n",
      "loss: 0.005554  [    0/60000]\n",
      "loss: 0.001385  [ 6400/60000]\n",
      "loss: 0.000517  [12800/60000]\n",
      "loss: 0.001644  [19200/60000]\n",
      "loss: 0.000738  [25600/60000]\n",
      "loss: 0.019418  [32000/60000]\n",
      "loss: 0.019263  [38400/60000]\n",
      "loss: 0.007346  [44800/60000]\n",
      "loss: 0.027170  [51200/60000]\n",
      "loss: 0.003493  [57600/60000]\n",
      "  ➜ Train loss: 0.0107 | Test loss: 0.0259 | Accuracy: 99.14%\n",
      "\n",
      "✅ Training finished!\n"
     ]
    }
   ],
   "source": [
    "EPOCHS = 10\n",
    "for epoch in range(EPOCHS):\n",
    "    print(f\"\\n📚 Epoch {epoch+1}/{EPOCHS}\")\n",
    "    train_loss = train_epoch(train_loader, model, loss_fn, optimizer, epoch)\n",
    "    test_loss, test_acc = test_epoch(test_loader, model, epoch)\n",
    "\n",
    "    print(f\"  ➜ Train loss: {train_loss:.4f} | \"\n",
    "          f\"Test loss: {test_loss:.4f} | \"\n",
    "          f\"Accuracy: {test_acc*100:.2f}%\")\n",
    "\n",
    "writer.flush()\n",
    "print(\"\\n✅ Training finished!\")\n"
   ]
  },
  {
   "cell_type": "code",
   "execution_count": 26,
   "id": "6818a828",
   "metadata": {},
   "outputs": [
    {
     "name": "stdout",
     "output_type": "stream",
     "text": [
      "💾 model_cnn.pth saved\n"
     ]
    }
   ],
   "source": [
    "model.eval()\n",
    "torch.save(model.state_dict(), \"model_cnn.pth\")\n",
    "print(\"💾 model_cnn.pth saved\")\n",
    "\n",
    "writer.close()\n"
   ]
  },
  {
   "cell_type": "code",
   "execution_count": 27,
   "id": "30829396",
   "metadata": {},
   "outputs": [
    {
     "data": {
      "image/png": "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",
      "text/plain": [
       "<Figure size 640x480 with 1 Axes>"
      ]
     },
     "metadata": {},
     "output_type": "display_data"
    }
   ],
   "source": [
    "inference_model = CNN().to(device)\n",
    "inference_model.load_state_dict(torch.load(\"model_cnn.pth\"))\n",
    "inference_model.eval()\n",
    "\n",
    "sample_img, true_label = test_data[0]\n",
    "with torch.no_grad():\n",
    "    logits = inference_model(sample_img.unsqueeze(0).to(device))\n",
    "pred_label = logits.argmax(1).item()\n",
    "\n",
    "plt.imshow(sample_img.squeeze(), cmap=\"gray\")\n",
    "plt.title(f\"True : {true_label} | Pred : {pred_label}\")\n",
    "plt.axis(\"off\")\n",
    "plt.show()\n"
   ]
  },
  {
   "cell_type": "code",
   "execution_count": null,
   "id": "624d69b2",
   "metadata": {},
   "outputs": [
    {
     "name": "stdout",
     "output_type": "stream",
     "text": [
      "✅ ONNX sauvegardé : model_cnn.onnx\n",
      "Test ONNX OK, logits shape : (1, 10)\n"
     ]
    }
   ],
   "source": [
    "# export vers ONNX\n",
    "import torch, onnx\n",
    "from pathlib import Path\n",
    "\n",
    "model = CNN(p_dropout=0.3).to(\"cpu\")\n",
    "model.load_state_dict(torch.load(\"model_cnn.pth\", map_location=\"cpu\"))\n",
    "model.eval()\n",
    "\n",
    "# export\n",
    "dummy = torch.zeros((1, 1, 28, 28), dtype=torch.float32)\n",
    "onnx_path = Path(\"model_cnn.onnx\")\n",
    "torch.onnx.export(\n",
    "    model, dummy, onnx_path,\n",
    "    input_names=[\"input\"], output_names=[\"output\"],\n",
    "    dynamic_axes={\"input\": {0:\"batch\"}, \"output\": {0:\"batch\"}},\n",
    "    opset_version=12\n",
    ")\n",
    "print(\"✅ ONNX sauvegardé :\", onnx_path)\n",
    "# petit test\n",
    "import onnxruntime as ort\n",
    "sess = ort.InferenceSession(str(onnx_path), providers=[\"CPUExecutionProvider\"])\n",
    "print(\"Test ONNX OK, logits shape :\", sess.run(None, {\"input\": dummy.numpy()})[0].shape)\n",
    "\n"
   ]
  }
 ],
 "metadata": {
  "kernelspec": {
   "display_name": ".venv",
   "language": "python",
   "name": "python3"
  },
  "language_info": {
   "codemirror_mode": {
    "name": "ipython",
    "version": 3
   },
   "file_extension": ".py",
   "mimetype": "text/x-python",
   "name": "python",
   "nbconvert_exporter": "python",
   "pygments_lexer": "ipython3",
   "version": "3.12.8"
  }
 },
 "nbformat": 4,
 "nbformat_minor": 5
}
